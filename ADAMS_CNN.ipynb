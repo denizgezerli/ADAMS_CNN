{
 "cells": [
  {
   "cell_type": "code",
   "execution_count": null,
   "metadata": {
    "colab": {
     "base_uri": "https://localhost:8080/",
     "height": 121
    },
    "colab_type": "code",
    "id": "d46MDvdonyXj",
    "outputId": "29e44fc7-0a2e-4c3c-f47a-88cf8b4e1a74"
   },
   "outputs": [],
   "source": [
    "from google.colab import drive\n",
    "drive.mount('/content/drive')"
   ]
  },
  {
   "cell_type": "markdown",
   "metadata": {},
   "source": [
    "## 1. Introduction"
   ]
  },
  {
   "cell_type": "markdown",
   "metadata": {},
   "source": [
    "In this project, the aim is to correctly classify whether a photo of a human face is photoshopped or not. In other words, this task is a binary classification task.\n",
    "\n",
    "Several machine learning methods can be used to achieve this goal. Some of them are logistic regression, decision trees, and random forest. However, recent developments in technology enabled us to use artificial neural networks or deep learning. These networks require great computational power which we have now. \n",
    "\n",
    "There are various types of deep neural networks. However, AlexNet showed that convolutional neural networks work best for image classification tasks [1]. \n",
    "\n",
    "Deep convolutional neural networks like AlexNet requires great computational power to train. This is not possible in a basic laptop. Therefore, transfer learning is widely used [2]. In transfer learning, a pretrained model is downloaded and implemented. Besides other machine learning models, a deep convolutional network with transfer learning is also suitable for this task.\n"
   ]
  },
  {
   "cell_type": "markdown",
   "metadata": {
    "colab_type": "text",
    "id": "Rlvx0lva5Piy"
   },
   "source": [
    "## 2. Data"
   ]
  },
  {
   "cell_type": "markdown",
   "metadata": {},
   "source": [
    "Data consists of two files, training and unknown. Training file has 891 real photos and 463 fake photos. Unknown file has 481 photos without any label. The photos have the size 600x600."
   ]
  },
  {
   "cell_type": "code",
   "execution_count": 2,
   "metadata": {
    "colab": {
     "base_uri": "https://localhost:8080/",
     "height": 34
    },
    "colab_type": "code",
    "id": "TzMa4zqvh5uK",
    "outputId": "9214fab5-b4cc-46a1-9059-45d1b22c2952"
   },
   "outputs": [
    {
     "name": "stderr",
     "output_type": "stream",
     "text": [
      "Using TensorFlow backend.\n"
     ]
    }
   ],
   "source": [
    "import numpy as np\n",
    "import tensorflow as tf\n",
    "import random as rn\n",
    "\n",
    "np.random.seed(36)\n",
    "\n",
    "rn.seed(42)\n",
    "\n",
    "\n",
    "from keras import backend as K\n",
    "tf.set_random_seed(26)\n",
    "\n",
    "sess = tf.Session(graph=tf.get_default_graph())\n",
    "K.set_session(sess)"
   ]
  },
  {
   "cell_type": "markdown",
   "metadata": {
    "colab_type": "text",
    "id": "Jyi0S-el9-V-"
   },
   "source": [
    "In order to get reproducible results, seeds for numpy, random, and tensorflow library are set to 36, 42, and 26, respectively. "
   ]
  },
  {
   "cell_type": "code",
   "execution_count": null,
   "metadata": {
    "colab": {},
    "colab_type": "code",
    "id": "JqWZVqlIpHKp"
   },
   "outputs": [],
   "source": [
    "bn_root_path_training = 'drive/My Drive/data/training/'\n",
    "bn_root_path_validation='drive/My Drive/data/validation/'"
   ]
  },
  {
   "cell_type": "markdown",
   "metadata": {
    "colab_type": "text",
    "id": "wy4stJl8B2np"
   },
   "source": [
    "The training data is seperated into 2 files by hand. This is done to avoid validation data to get augmented. Raw data is split into training and validation data by 0.8 and 0.2 factors, respectively.\n",
    "\n",
    "At first, the same ImageDataGenerator was used for both validation and training data because ImageDataGenerator has 'subset' argument. This argument can be set to training or validation. However, since the data comes from the same directory and generator, this approach leads to augmented validation data which is not wanted."
   ]
  },
  {
   "cell_type": "code",
   "execution_count": 4,
   "metadata": {
    "colab": {
     "base_uri": "https://localhost:8080/",
     "height": 50
    },
    "colab_type": "code",
    "id": "QorxFwzmfArQ",
    "outputId": "a5a1e375-7d71-44ba-c727-f3d0c17ecaa6"
   },
   "outputs": [
    {
     "name": "stdout",
     "output_type": "stream",
     "text": [
      "Found 1084 images belonging to 2 classes.\n",
      "Found 270 images belonging to 2 classes.\n"
     ]
    }
   ],
   "source": [
    "\n",
    "from keras.preprocessing.image import ImageDataGenerator \n",
    "batch_size=32\n",
    "img_height=600\n",
    "img_width=600\n",
    "\n",
    "generator = ImageDataGenerator(rescale = 1./255,\n",
    "                               validation_split=0, \n",
    "                              rotation_range = 20, \n",
    "                               width_shift_range=0.1,\n",
    "                               height_shift_range=0.1,\n",
    "                               zoom_range = 0.1,\n",
    "                               horizontal_flip = True,\n",
    "                                ) \n",
    "val_generator=ImageDataGenerator(rescale = 1./255)\n",
    "\n",
    "train_data = generator.flow_from_directory(\n",
    "    bn_root_path_training,\n",
    "    target_size=(img_height, img_width),\n",
    "    batch_size=batch_size,\n",
    "    class_mode='binary',\n",
    "    ) \n",
    "\n",
    "val_data = val_generator.flow_from_directory(\n",
    "    bn_root_path_validation, \n",
    "    target_size=(img_height, img_width),\n",
    "    batch_size=batch_size,\n",
    "    class_mode='binary',\n",
    "    ) "
   ]
  },
  {
   "cell_type": "markdown",
   "metadata": {
    "colab_type": "text",
    "id": "ZYhEgclID4r3"
   },
   "source": [
    "Before loading the data, batch size, image width, and image height are set to 32, 600, and 600, respectively. Two seperate generators are used to load training and validation data. \n",
    "\n",
    "Training data is rescaled and  augmented by some arguments. When data amount is low, augmentation helps the model to learn [3]. Training data has 721 real  and 363 fake photos, 1084 photos in total.\n",
    "\n",
    "Validation data is rescaled but not augmented. Validation data has 170 real and 100 fake photos, 270 photos in total. Validation data is 0.2 of raw data."
   ]
  },
  {
   "cell_type": "code",
   "execution_count": 5,
   "metadata": {
    "colab": {
     "base_uri": "https://localhost:8080/",
     "height": 34
    },
    "colab_type": "code",
    "id": "YJWltBiUfeU8",
    "outputId": "d1ce00ae-ff0a-4d2f-811b-14edf810e452"
   },
   "outputs": [
    {
     "name": "stdout",
     "output_type": "stream",
     "text": [
      "1084 2 {'a_real': 0, 'fake': 1}\n"
     ]
    }
   ],
   "source": [
    "\n",
    "n_train_samples = len(train_data.filenames)\n",
    "n_classes = len(train_data.class_indices)\n",
    "print(n_train_samples, n_classes,train_data.class_indices)"
   ]
  },
  {
   "cell_type": "markdown",
   "metadata": {
    "colab_type": "text",
    "id": "Yfh_AzXnF3JF"
   },
   "source": [
    "Number of train samples is 1084. Number of classes is 2. Class indices are set to 0 for real and 1 for fake."
   ]
  },
  {
   "cell_type": "code",
   "execution_count": 6,
   "metadata": {
    "colab": {
     "base_uri": "https://localhost:8080/",
     "height": 195
    },
    "colab_type": "code",
    "id": "S43ODqGlITOj",
    "outputId": "d12670bf-daf7-4295-d57e-59f1b951b7bd"
   },
   "outputs": [
    {
     "data": {
      "text/html": [
       "<div>\n",
       "<style scoped>\n",
       "    .dataframe tbody tr th:only-of-type {\n",
       "        vertical-align: middle;\n",
       "    }\n",
       "\n",
       "    .dataframe tbody tr th {\n",
       "        vertical-align: top;\n",
       "    }\n",
       "\n",
       "    .dataframe thead th {\n",
       "        text-align: right;\n",
       "    }\n",
       "</style>\n",
       "<table border=\"1\" class=\"dataframe\">\n",
       "  <thead>\n",
       "    <tr style=\"text-align: right;\">\n",
       "      <th></th>\n",
       "      <th>images</th>\n",
       "      <th>id</th>\n",
       "    </tr>\n",
       "  </thead>\n",
       "  <tbody>\n",
       "    <tr>\n",
       "      <th>0</th>\n",
       "      <td>[[[254, 254, 254], [254, 254, 254], [254, 254,...</td>\n",
       "      <td>00217efccd6f697eb937.jpg</td>\n",
       "    </tr>\n",
       "    <tr>\n",
       "      <th>1</th>\n",
       "      <td>[[[175, 165, 138], [176, 166, 139], [177, 167,...</td>\n",
       "      <td>020c00becfcd4e7938af.jpg</td>\n",
       "    </tr>\n",
       "    <tr>\n",
       "      <th>2</th>\n",
       "      <td>[[[192, 128, 162], [189, 125, 159], [188, 124,...</td>\n",
       "      <td>0616140ccf8da205dae1.jpg</td>\n",
       "    </tr>\n",
       "    <tr>\n",
       "      <th>3</th>\n",
       "      <td>[[[231, 232, 234], [231, 232, 234], [232, 233,...</td>\n",
       "      <td>046d3ccaf5e4888cff8f.jpg</td>\n",
       "    </tr>\n",
       "    <tr>\n",
       "      <th>4</th>\n",
       "      <td>[[[128, 157, 187], [129, 158, 188], [130, 159,...</td>\n",
       "      <td>01a1a6b856bffedc304c.jpg</td>\n",
       "    </tr>\n",
       "  </tbody>\n",
       "</table>\n",
       "</div>"
      ],
      "text/plain": [
       "                                              images                        id\n",
       "0  [[[254, 254, 254], [254, 254, 254], [254, 254,...  00217efccd6f697eb937.jpg\n",
       "1  [[[175, 165, 138], [176, 166, 139], [177, 167,...  020c00becfcd4e7938af.jpg\n",
       "2  [[[192, 128, 162], [189, 125, 159], [188, 124,...  0616140ccf8da205dae1.jpg\n",
       "3  [[[231, 232, 234], [231, 232, 234], [232, 233,...  046d3ccaf5e4888cff8f.jpg\n",
       "4  [[[128, 157, 187], [129, 158, 188], [130, 159,...  01a1a6b856bffedc304c.jpg"
      ]
     },
     "execution_count": 6,
     "metadata": {
      "tags": []
     },
     "output_type": "execute_result"
    }
   ],
   "source": [
    "import pandas as pd\n",
    "import os, os.path\n",
    "from matplotlib.image import imread\n",
    "path = 'drive/My Drive/unknown/test'\n",
    "filenames = [os.path.abspath(os.path.join(path, x)) for x in os.listdir(path) if '.png' in x or '.jpg' in x]\n",
    "images_df = pd.DataFrame([[imread(filename)] for filename in filenames], columns=['images'])\n",
    "images_df['id'] = filenames\n",
    "images_df['id'] = images_df['id'].apply(os.path.basename)\n",
    "images_df.head()\n",
    "\n"
   ]
  },
  {
   "cell_type": "markdown",
   "metadata": {
    "colab_type": "text",
    "id": "YQwo8aeuGhDQ"
   },
   "source": [
    "In this cell, the test data is loaded to a dataframe called images_df. This dataframe stores the images in images column and filenames of these images in id column. "
   ]
  },
  {
   "cell_type": "code",
   "execution_count": null,
   "metadata": {
    "colab": {},
    "colab_type": "code",
    "id": "AxOmpmv4S2mQ"
   },
   "outputs": [],
   "source": [
    "test_gen = ImageDataGenerator(rescale = 1./255)\n",
    "test_data = test_gen.flow(np.array(list(images_df.images)), batch_size=1,shuffle=False)"
   ]
  },
  {
   "cell_type": "markdown",
   "metadata": {
    "colab_type": "text",
    "id": "c6odREOnHjZn"
   },
   "source": [
    "Test data is loaded from the images column of images_df after it is converted to an array. Batch size is set to 1 and shuffle is set to False in order to preserve the order. "
   ]
  },
  {
   "cell_type": "code",
   "execution_count": 12,
   "metadata": {
    "colab": {
     "base_uri": "https://localhost:8080/",
     "height": 286
    },
    "colab_type": "code",
    "id": "OnRfU4jI72R3",
    "outputId": "997016e5-b3fe-4e7d-c582-29a15d87bae9"
   },
   "outputs": [
    {
     "data": {
      "text/plain": [
       "<matplotlib.image.AxesImage at 0x7f9e200a6fd0>"
      ]
     },
     "execution_count": 12,
     "metadata": {
      "tags": []
     },
     "output_type": "execute_result"
    },
    {
     "data": {
      "image/png": "[encoded data removed]",
      "text/plain": [
       "<Figure size 432x288 with 1 Axes>"
      ]
     },
     "metadata": {
      "tags": []
     },
     "output_type": "display_data"
    }
   ],
   "source": [
    "import matplotlib.pyplot as plt\n",
    "plt.imshow(images_df.images[1])"
   ]
  },
  {
   "cell_type": "code",
   "execution_count": 7,
   "metadata": {
    "colab": {
     "base_uri": "https://localhost:8080/",
     "height": 195
    },
    "colab_type": "code",
    "id": "SR6CClGDUw8W",
    "outputId": "2218fe9e-24d0-4c71-df90-e37cb3acb418"
   },
   "outputs": [
    {
     "data": {
      "text/html": [
       "<div>\n",
       "<style scoped>\n",
       "    .dataframe tbody tr th:only-of-type {\n",
       "        vertical-align: middle;\n",
       "    }\n",
       "\n",
       "    .dataframe tbody tr th {\n",
       "        vertical-align: top;\n",
       "    }\n",
       "\n",
       "    .dataframe thead th {\n",
       "        text-align: right;\n",
       "    }\n",
       "</style>\n",
       "<table border=\"1\" class=\"dataframe\">\n",
       "  <thead>\n",
       "    <tr style=\"text-align: right;\">\n",
       "      <th></th>\n",
       "      <th>images</th>\n",
       "      <th>id</th>\n",
       "    </tr>\n",
       "  </thead>\n",
       "  <tbody>\n",
       "    <tr>\n",
       "      <th>0</th>\n",
       "      <td>[[[254, 254, 254], [254, 254, 254], [254, 254,...</td>\n",
       "      <td>00217efccd6f697eb937</td>\n",
       "    </tr>\n",
       "    <tr>\n",
       "      <th>1</th>\n",
       "      <td>[[[175, 165, 138], [176, 166, 139], [177, 167,...</td>\n",
       "      <td>020c00becfcd4e7938af</td>\n",
       "    </tr>\n",
       "    <tr>\n",
       "      <th>2</th>\n",
       "      <td>[[[192, 128, 162], [189, 125, 159], [188, 124,...</td>\n",
       "      <td>0616140ccf8da205dae1</td>\n",
       "    </tr>\n",
       "    <tr>\n",
       "      <th>3</th>\n",
       "      <td>[[[231, 232, 234], [231, 232, 234], [232, 233,...</td>\n",
       "      <td>046d3ccaf5e4888cff8f</td>\n",
       "    </tr>\n",
       "    <tr>\n",
       "      <th>4</th>\n",
       "      <td>[[[128, 157, 187], [129, 158, 188], [130, 159,...</td>\n",
       "      <td>01a1a6b856bffedc304c</td>\n",
       "    </tr>\n",
       "  </tbody>\n",
       "</table>\n",
       "</div>"
      ],
      "text/plain": [
       "                                              images                    id\n",
       "0  [[[254, 254, 254], [254, 254, 254], [254, 254,...  00217efccd6f697eb937\n",
       "1  [[[175, 165, 138], [176, 166, 139], [177, 167,...  020c00becfcd4e7938af\n",
       "2  [[[192, 128, 162], [189, 125, 159], [188, 124,...  0616140ccf8da205dae1\n",
       "3  [[[231, 232, 234], [231, 232, 234], [232, 233,...  046d3ccaf5e4888cff8f\n",
       "4  [[[128, 157, 187], [129, 158, 188], [130, 159,...  01a1a6b856bffedc304c"
      ]
     },
     "execution_count": 7,
     "metadata": {
      "tags": []
     },
     "output_type": "execute_result"
    }
   ],
   "source": [
    "images_df['id'] = images_df['id'].str.split('.').str[0]\n",
    "images_df.head()"
   ]
  },
  {
   "cell_type": "markdown",
   "metadata": {
    "colab_type": "text",
    "id": "c8HkQoZ0H9Vx"
   },
   "source": [
    "Id's are cleaned and got their appropriate form for submission."
   ]
  },
  {
   "cell_type": "markdown",
   "metadata": {},
   "source": [
    "## 3. Models"
   ]
  },
  {
   "cell_type": "markdown",
   "metadata": {
    "colab_type": "text",
    "id": "j3uXFmJ14WwJ"
   },
   "source": [
    "### 3.1. Benchmark Model"
   ]
  },
  {
   "cell_type": "code",
   "execution_count": null,
   "metadata": {
    "colab": {},
    "colab_type": "code",
    "id": "nfbmv7WY2Pz5"
   },
   "outputs": [],
   "source": [
    "import numpy as np \n",
    "import pandas as pd \n",
    "import matplotlib.pyplot as plt\n",
    "import cv2 \n",
    "import os \n",
    "from random import shuffle \n",
    "from tqdm import tqdm \n",
    "from PIL import Image\n",
    "import warnings\n",
    "warnings.filterwarnings('ignore')\n",
    "import os"
   ]
  },
  {
   "cell_type": "code",
   "execution_count": null,
   "metadata": {
    "colab": {},
    "colab_type": "code",
    "id": "D4s4JL0K4tlQ"
   },
   "outputs": [],
   "source": [
    "train_real_dir = \"drive/My Drive/data/training/a_real/\"\n",
    "train_fake_dir= \"drive/My Drive/data/training/fake/\"\n",
    "test_real_dir= \"drive/My Drive/data/validation/a_real\"\n",
    "test_fake_dir= \"drive/My Drive/data/validation/fake\"\n",
    "image_size=600\n",
    "\n"
   ]
  },
  {
   "cell_type": "code",
   "execution_count": null,
   "metadata": {
    "colab": {},
    "colab_type": "code",
    "id": "G8ZnCjOq5WUL"
   },
   "outputs": [],
   "source": [
    "def train_data():\n",
    "    train_data_real = [] \n",
    "    train_data_fake=[]\n",
    "    for image1 in tqdm(os.listdir(train_real_dir)): \n",
    "        path = os.path.join(train_real_dir, image1)\n",
    "        img1 = cv2.imread(path, cv2.IMREAD_GRAYSCALE) \n",
    "        img1 = cv2.resize(img1, (image_size, image_size))\n",
    "        train_data_real.append(img1) \n",
    "    for image2 in tqdm(os.listdir(train_fake_dir)): \n",
    "        path = os.path.join(train_fake_dir, image2)\n",
    "        img2 = cv2.imread(path, cv2.IMREAD_GRAYSCALE) \n",
    "        img2 = cv2.resize(img2, (image_size, image_size))\n",
    "        train_data_fake.append(img2) \n",
    "    \n",
    "    train_data= np.concatenate((np.asarray(train_data_real),np.asarray(train_data_fake)),axis=0)\n",
    "    return train_data"
   ]
  },
  {
   "cell_type": "code",
   "execution_count": null,
   "metadata": {
    "colab": {},
    "colab_type": "code",
    "id": "BfVj8CHP5e5r"
   },
   "outputs": [],
   "source": [
    "def test_data():\n",
    "    test_data_real = [] \n",
    "    test_data_fake=[]\n",
    "    for image1 in tqdm(os.listdir(test_real_dir)): \n",
    "        path = os.path.join(test_real_dir, image1)\n",
    "        img1 = cv2.imread(path, cv2.IMREAD_GRAYSCALE) \n",
    "        img1 = cv2.resize(img1, (image_size, image_size))\n",
    "        test_data_real.append(img1) \n",
    "    for image2 in tqdm(os.listdir(test_fake_dir)): \n",
    "        path = os.path.join(test_fake_dir, image2)\n",
    "        img2 = cv2.imread(path, cv2.IMREAD_GRAYSCALE) \n",
    "        img2 = cv2.resize(img2, (image_size, image_size))\n",
    "        test_data_fake.append(img2) \n",
    "    \n",
    "    test_data= np.concatenate((np.asarray(test_data_real),np.asarray(test_data_fake)),axis=0)\n",
    "    return test_data"
   ]
  },
  {
   "cell_type": "markdown",
   "metadata": {
    "colab_type": "text",
    "id": "Txrchc_7BKpM"
   },
   "source": [
    "Functions for loading the training data and test data are written."
   ]
  },
  {
   "cell_type": "code",
   "execution_count": 24,
   "metadata": {
    "colab": {
     "base_uri": "https://localhost:8080/",
     "height": 84
    },
    "colab_type": "code",
    "id": "CClL2UOW6vge",
    "outputId": "4eee802a-549a-40dc-fff4-a5fb05b9085e"
   },
   "outputs": [
    {
     "name": "stderr",
     "output_type": "stream",
     "text": [
      "100%|██████████| 721/721 [00:11<00:00, 60.31it/s]\n",
      "100%|██████████| 363/363 [00:05<00:00, 72.94it/s]\n",
      "100%|██████████| 170/170 [00:02<00:00, 59.93it/s]\n",
      "100%|██████████| 100/100 [00:01<00:00, 61.84it/s]\n"
     ]
    }
   ],
   "source": [
    "train_data = train_data() \n",
    "test_data = test_data()"
   ]
  },
  {
   "cell_type": "markdown",
   "metadata": {
    "colab_type": "text",
    "id": "phVA_87ZBTsb"
   },
   "source": [
    "Training and test data are loaded."
   ]
  },
  {
   "cell_type": "code",
   "execution_count": null,
   "metadata": {
    "colab": {},
    "colab_type": "code",
    "id": "UdiQLvg97GLX"
   },
   "outputs": [],
   "source": [
    "X=np.concatenate((train_data,test_data),axis=0)\n",
    "X = (X-np.min(X))/(np.max(X)-np.min(X))"
   ]
  },
  {
   "cell_type": "markdown",
   "metadata": {
    "colab_type": "text",
    "id": "aX41ZjPdBXXK"
   },
   "source": [
    "Data is rescaled."
   ]
  },
  {
   "cell_type": "code",
   "execution_count": null,
   "metadata": {
    "colab": {},
    "colab_type": "code",
    "id": "6NBRKweC7TEr"
   },
   "outputs": [],
   "source": [
    "r = np.zeros(721)\n",
    "f = np.ones(363)\n",
    "Y_train = np.concatenate((r, f), axis=0)\n",
    "r = np.zeros(170)\n",
    "f = np.ones(100)\n",
    "Y_test = np.concatenate((r, f), axis=0)"
   ]
  },
  {
   "cell_type": "markdown",
   "metadata": {
    "colab_type": "text",
    "id": "RHL8RpASBcFJ"
   },
   "source": [
    "Labels for training and test data are created."
   ]
  },
  {
   "cell_type": "code",
   "execution_count": null,
   "metadata": {
    "colab": {},
    "colab_type": "code",
    "id": "j7eUvoIc7iT1"
   },
   "outputs": [],
   "source": [
    "y=np.concatenate((Y_train,Y_test),axis=0).reshape(X.shape[0],1)\n"
   ]
  },
  {
   "cell_type": "code",
   "execution_count": 28,
   "metadata": {
    "colab": {
     "base_uri": "https://localhost:8080/",
     "height": 34
    },
    "colab_type": "code",
    "id": "NAXRO_-V7orS",
    "outputId": "50b67a2e-d86c-4058-88be-97f3f38fa002"
   },
   "outputs": [
    {
     "name": "stdout",
     "output_type": "stream",
     "text": [
      "Amount of train data :  1083 .  Amount of test data :  271\n"
     ]
    }
   ],
   "source": [
    "from sklearn.model_selection import train_test_split\n",
    "x_train, x_test, y_train, y_test = train_test_split(X, y, test_size=0.2, random_state=42)\n",
    "number_of_train = x_train.shape[0]\n",
    "number_of_test = x_test.shape[0]\n",
    "print(\"Amount of train data : \", number_of_train, \".  Amount of test data : \", number_of_test)"
   ]
  },
  {
   "cell_type": "markdown",
   "metadata": {
    "colab_type": "text",
    "id": "qHn2_bAvBgw_"
   },
   "source": [
    "Merged data is splitted into training and test data."
   ]
  },
  {
   "cell_type": "code",
   "execution_count": 29,
   "metadata": {
    "colab": {
     "base_uri": "https://localhost:8080/",
     "height": 34
    },
    "colab_type": "code",
    "id": "ceGEF6SnZsW0",
    "outputId": "da46920c-56bd-4214-dfab-bbdf09ec838f"
   },
   "outputs": [
    {
     "name": "stdout",
     "output_type": "stream",
     "text": [
      "(1083, 600, 600) (1083, 1)\n"
     ]
    }
   ],
   "source": [
    "print(x_train.shape,y_train.shape)"
   ]
  },
  {
   "cell_type": "code",
   "execution_count": 30,
   "metadata": {
    "colab": {
     "base_uri": "https://localhost:8080/",
     "height": 84
    },
    "colab_type": "code",
    "id": "3YZct7yP8fHE",
    "outputId": "38a4183b-fb3d-4d56-d9d5-3faa5e8d1b8f"
   },
   "outputs": [
    {
     "name": "stdout",
     "output_type": "stream",
     "text": [
      "x train:  (360000, 1083)\n",
      "x test:  (360000, 271)\n",
      "y train:  (1, 1083)\n",
      "y test:  (1, 271)\n"
     ]
    }
   ],
   "source": [
    "x_train_flatten = x_train.reshape(number_of_train,x_train.shape[1]*x_train.shape[2])\n",
    "x_test_flatten = x_test .reshape(number_of_test,x_test.shape[1]*x_test.shape[2])\n",
    "x_train = x_train_flatten.T\n",
    "x_test = x_test_flatten.T\n",
    "y_test = y_test.T\n",
    "y_train = y_train.T\n",
    "print(\"x train: \",x_train.shape)\n",
    "print(\"x test: \",x_test.shape)\n",
    "print(\"y train: \",y_train.shape)\n",
    "print(\"y test: \",y_test.shape)"
   ]
  },
  {
   "cell_type": "markdown",
   "metadata": {
    "colab_type": "text",
    "id": "LnNeVuLeBrzd"
   },
   "source": [
    "Data is reshaped. "
   ]
  },
  {
   "cell_type": "code",
   "execution_count": 31,
   "metadata": {
    "colab": {
     "base_uri": "https://localhost:8080/",
     "height": 101
    },
    "colab_type": "code",
    "id": "vL5DNiAt8qdd",
    "outputId": "d31caecc-1ba2-4dca-9ebb-bcbadcbf5869"
   },
   "outputs": [
    {
     "data": {
      "text/plain": [
       "LogisticRegression(C=1, class_weight=None, dual=False, fit_intercept=True,\n",
       "                   intercept_scaling=1, l1_ratio=None, max_iter=100,\n",
       "                   multi_class='warn', n_jobs=None, penalty='l1',\n",
       "                   random_state=None, solver='warn', tol=0.0001, verbose=0,\n",
       "                   warm_start=False)"
      ]
     },
     "execution_count": 31,
     "metadata": {
      "tags": []
     },
     "output_type": "execute_result"
    }
   ],
   "source": [
    "from sklearn.linear_model import LogisticRegression\n",
    "log_reg= LogisticRegression(C=1,penalty=\"l1\")\n",
    "log_reg.fit(x_train.T,y_train.T)\n"
   ]
  },
  {
   "cell_type": "markdown",
   "metadata": {
    "colab_type": "text",
    "id": "PXRBO9WnBwbl"
   },
   "source": [
    "Logistic regression is used for benchmark since the task is binary classification."
   ]
  },
  {
   "cell_type": "code",
   "execution_count": 32,
   "metadata": {
    "colab": {
     "base_uri": "https://localhost:8080/",
     "height": 50
    },
    "colab_type": "code",
    "id": "QHCzYBgq-r9I",
    "outputId": "e73215a7-6c34-4fb7-8859-7c9e319f42e8"
   },
   "outputs": [
    {
     "name": "stdout",
     "output_type": "stream",
     "text": [
      "test accuracy: 0.6162361623616236 \n",
      "train accuracy: 0.9926131117266851 \n"
     ]
    }
   ],
   "source": [
    "print(\"test accuracy: {} \".format(log_reg.score(x_test.T, y_test.T)))\n",
    "print(\"train accuracy: {} \".format(log_reg.score(x_train.T, y_train.T)))"
   ]
  },
  {
   "cell_type": "markdown",
   "metadata": {
    "colab_type": "text",
    "id": "-GtXEhAlB2Vn"
   },
   "source": [
    "Train accuracy is high but test accuracy is low. "
   ]
  },
  {
   "cell_type": "markdown",
   "metadata": {
    "colab_type": "text",
    "id": "lihxzC2l4-QS"
   },
   "source": [
    "### 3.2. Basic CNN Model"
   ]
  },
  {
   "cell_type": "code",
   "execution_count": 20,
   "metadata": {
    "colab": {
     "base_uri": "https://localhost:8080/",
     "height": 437
    },
    "colab_type": "code",
    "id": "Y4-B3xCgh9qM",
    "outputId": "2a51a731-cc45-42f0-e49b-afa492d36f5f"
   },
   "outputs": [
    {
     "name": "stdout",
     "output_type": "stream",
     "text": [
      "_________________________________________________________________\n",
      "Layer (type)                 Output Shape              Param #   \n",
      "=================================================================\n",
      "conv2d_9 (Conv2D)            (None, 598, 598, 32)      896       \n",
      "_________________________________________________________________\n",
      "max_pooling2d_5 (MaxPooling2 (None, 299, 299, 32)      0         \n",
      "_________________________________________________________________\n",
      "conv2d_10 (Conv2D)           (None, 150, 150, 32)      9248      \n",
      "_________________________________________________________________\n",
      "max_pooling2d_6 (MaxPooling2 (None, 75, 75, 32)        0         \n",
      "_________________________________________________________________\n",
      "conv2d_11 (Conv2D)           (None, 38, 38, 32)        9248      \n",
      "_________________________________________________________________\n",
      "conv2d_12 (Conv2D)           (None, 19, 19, 32)        9248      \n",
      "_________________________________________________________________\n",
      "flatten_3 (Flatten)          (None, 11552)             0         \n",
      "_________________________________________________________________\n",
      "dense_5 (Dense)              (None, 16)                184848    \n",
      "_________________________________________________________________\n",
      "dense_6 (Dense)              (None, 1)                 17        \n",
      "=================================================================\n",
      "Total params: 213,505\n",
      "Trainable params: 213,505\n",
      "Non-trainable params: 0\n",
      "_________________________________________________________________\n"
     ]
    }
   ],
   "source": [
    "from keras.models import Sequential,Model\n",
    "from keras.layers.core import Dense, Dropout, Activation, Flatten, Dropout \n",
    "from keras.layers import Conv2D \n",
    "from keras.layers import MaxPooling2D,GlobalAveragePooling2D\n",
    "model = Sequential() \n",
    "model.add(Conv2D(32,\n",
    "                 kernel_size=(3, 3),\n",
    "                 activation='relu', \n",
    "                 input_shape=(img_height,img_width,3))) \n",
    "model.add(MaxPooling2D()) \n",
    "model.add(Conv2D(32, (3,3), activation='relu',strides=(2,2),kernel_initializer='glorot_normal' ,padding=\"same\"))\n",
    "model.add(MaxPooling2D())\n",
    "model.add(Conv2D(32, (3, 3), activation='relu',strides=(2,2),kernel_initializer='glorot_normal',padding=\"same\"))\n",
    "model.add(Conv2D(32, (3, 3), activation='relu',strides=(2,2),kernel_initializer='glorot_normal',padding=\"same\"))\n",
    "model.add(Flatten())\n",
    "model.add(Dense(16, activation='relu',kernel_initializer='glorot_normal')) \n",
    "model.add(Dense(1, activation='sigmoid')) \n",
    "model.summary()"
   ]
  },
  {
   "cell_type": "markdown",
   "metadata": {
    "colab_type": "text",
    "id": "M_kbN0lLIiFB"
   },
   "source": [
    "A basic CNN model is built. Kernel size is set to 3. Strides are set to 2. Glorot normal initializer is used for kernel initializer. Padding is set to same. Relu is used as activation function. \n",
    "\n",
    "After several Conv2D layers,  fully connected layers are built to make classification. Since our aim is binary classification, the last Dense layer has 1 unit and sigmoid as activation function. This layer gives the probability of being fake for a photo."
   ]
  },
  {
   "cell_type": "code",
   "execution_count": null,
   "metadata": {
    "colab": {},
    "colab_type": "code",
    "id": "osfbC4kjo6Se"
   },
   "outputs": [],
   "source": [
    "def auc_roc(y_true, y_pred):\n",
    "   \n",
    "    value, update_op = tf.contrib.metrics.streaming_auc(y_pred, y_true)\n",
    "\n",
    "    metric_vars = [i for i in tf.local_variables() if 'auc_roc' in i.name.split('/')[1]]\n",
    "\n",
    "    for v in metric_vars:\n",
    "        tf.add_to_collection(tf.GraphKeys.GLOBAL_VARIABLES, v)\n",
    "\n",
    "    with tf.control_dependencies([update_op]):\n",
    "        value = tf.identity(value)\n",
    "        return value"
   ]
  },
  {
   "cell_type": "markdown",
   "metadata": {
    "colab_type": "text",
    "id": "Ju_cbFKtJ13z"
   },
   "source": [
    "To be able to monitor the auc scores for each epoch, a custom auc_roc function is used."
   ]
  },
  {
   "cell_type": "code",
   "execution_count": 21,
   "metadata": {
    "colab": {
     "base_uri": "https://localhost:8080/",
     "height": 541
    },
    "colab_type": "code",
    "id": "lAFLov_MiUSy",
    "outputId": "33302bb1-0fb1-4f2d-ab21-3546d242eba0"
   },
   "outputs": [
    {
     "name": "stdout",
     "output_type": "stream",
     "text": [
      "Epoch 1/15\n",
      "34/33 [==============================] - 98s 3s/step - loss: 0.6518 - acc: 0.6543 - auc_roc: 0.4922 - val_loss: 0.6384 - val_acc: 0.6875 - val_auc_roc: 0.4895\n",
      "Epoch 2/15\n",
      "34/33 [==============================] - 96s 3s/step - loss: 0.6399 - acc: 0.6650 - auc_roc: 0.4994 - val_loss: 0.6188 - val_acc: 0.6875 - val_auc_roc: 0.5029\n",
      "Epoch 3/15\n",
      "34/33 [==============================] - 97s 3s/step - loss: 0.6388 - acc: 0.6650 - auc_roc: 0.5060 - val_loss: 0.7866 - val_acc: 0.5625 - val_auc_roc: 0.5102\n",
      "Epoch 4/15\n",
      "34/33 [==============================] - 97s 3s/step - loss: 0.6448 - acc: 0.6648 - auc_roc: 0.5077 - val_loss: 0.6257 - val_acc: 0.7188 - val_auc_roc: 0.5100\n",
      "Epoch 5/15\n",
      "34/33 [==============================] - 97s 3s/step - loss: 0.6358 - acc: 0.6656 - auc_roc: 0.5147 - val_loss: 0.7103 - val_acc: 0.5625 - val_auc_roc: 0.5173\n",
      "Epoch 6/15\n",
      "34/33 [==============================] - 96s 3s/step - loss: 0.6337 - acc: 0.6653 - auc_roc: 0.5193 - val_loss: 0.5537 - val_acc: 0.7812 - val_auc_roc: 0.5222\n",
      "Epoch 7/15\n",
      "34/33 [==============================] - 97s 3s/step - loss: 0.6380 - acc: 0.6650 - auc_roc: 0.5253 - val_loss: 0.6958 - val_acc: 0.5938 - val_auc_roc: 0.5266\n",
      "Epoch 8/15\n",
      "34/33 [==============================] - 97s 3s/step - loss: 0.6358 - acc: 0.6652 - auc_roc: 0.5277 - val_loss: 0.8062 - val_acc: 0.4062 - val_auc_roc: 0.5295\n",
      "Epoch 9/15\n",
      "34/33 [==============================] - 98s 3s/step - loss: 0.6263 - acc: 0.6654 - auc_roc: 0.5332 - val_loss: 0.5946 - val_acc: 0.7143 - val_auc_roc: 0.5372\n",
      "Epoch 10/15\n",
      "34/33 [==============================] - 96s 3s/step - loss: 0.6292 - acc: 0.6650 - auc_roc: 0.5417 - val_loss: 0.6175 - val_acc: 0.7188 - val_auc_roc: 0.5424\n",
      "Epoch 11/15\n",
      "34/33 [==============================] - 97s 3s/step - loss: 0.6288 - acc: 0.6654 - auc_roc: 0.5429 - val_loss: 0.5862 - val_acc: 0.6875 - val_auc_roc: 0.5453\n",
      "Epoch 12/15\n",
      "34/33 [==============================] - 96s 3s/step - loss: 0.6263 - acc: 0.6650 - auc_roc: 0.5476 - val_loss: 0.7206 - val_acc: 0.6250 - val_auc_roc: 0.5506\n",
      "Epoch 13/15\n",
      "34/33 [==============================] - 96s 3s/step - loss: 0.6310 - acc: 0.6656 - auc_roc: 0.5508 - val_loss: 0.7509 - val_acc: 0.5000 - val_auc_roc: 0.5516\n",
      "Epoch 14/15\n",
      "34/33 [==============================] - 97s 3s/step - loss: 0.6206 - acc: 0.6650 - auc_roc: 0.5538 - val_loss: 0.7781 - val_acc: 0.4375 - val_auc_roc: 0.5567\n",
      "Epoch 15/15\n",
      "34/33 [==============================] - 98s 3s/step - loss: 0.6268 - acc: 0.6650 - auc_roc: 0.5582 - val_loss: 0.6302 - val_acc: 0.7188 - val_auc_roc: 0.5596\n"
     ]
    }
   ],
   "source": [
    "from keras.optimizers import Adam\n",
    "\n",
    "epochs=15\n",
    "val_steps=len(val_data)/batch_size\n",
    "steps_per_epoch=n_train_samples/batch_size\n",
    "model.compile(optimizer=Adam(lr=0.001), loss='binary_crossentropy', metrics=['accuracy',auc_roc])\n",
    "history=model.fit_generator(train_data,\n",
    "          steps_per_epoch= steps_per_epoch,validation_steps=val_steps,\n",
    "          epochs=epochs,\n",
    "          verbose=1,\n",
    "          validation_data=val_data)"
   ]
  },
  {
   "cell_type": "code",
   "execution_count": null,
   "metadata": {
    "colab": {},
    "colab_type": "code",
    "id": "rT-Dy3yQiZft"
   },
   "outputs": [],
   "source": [
    "import matplotlib.pyplot as plt\n",
    "def show_history(history):\n",
    "    plt.plot(history.history['acc'])\n",
    "    plt.plot(history.history['val_acc'])\n",
    "    plt.ylabel('accuracy')\n",
    "    plt.xlabel('epoch')\n",
    "    plt.legend(['train_accuracy', 'val_accuracy'], loc='best')\n",
    "    plt.show()\n",
    "\n"
   ]
  },
  {
   "cell_type": "markdown",
   "metadata": {
    "colab_type": "text",
    "id": "U5tq1Pm0RNKX"
   },
   "source": [
    "show_history function plots accuracy in y axis and number of epochs in x axis for both training and validation data."
   ]
  },
  {
   "cell_type": "code",
   "execution_count": null,
   "metadata": {
    "colab": {},
    "colab_type": "code",
    "id": "jNWTXpYnib94"
   },
   "outputs": [],
   "source": [
    "def show_loss(history):\n",
    "  plt.title('Loss')\n",
    "  plt.plot(history.history['loss'], label='train_loss')\n",
    "  plt.plot(history.history['val_loss'], label='val_loss')\n",
    "  plt.legend()\n",
    "  plt.show()\n",
    "\n"
   ]
  },
  {
   "cell_type": "markdown",
   "metadata": {
    "colab_type": "text",
    "id": "gKMI5UqZReiI"
   },
   "source": [
    "show_loss function plots loss in y axis and number of epochs in x axis for both training and validation data."
   ]
  },
  {
   "cell_type": "code",
   "execution_count": 24,
   "metadata": {
    "colab": {
     "base_uri": "https://localhost:8080/",
     "height": 547
    },
    "colab_type": "code",
    "id": "ecNFlqulSWuB",
    "outputId": "ad55a300-4493-4942-ce0a-23631dc62d27"
   },
   "outputs": [
    {
     "data": {
      "image/png": "[encoded data removed]",
      "text/plain": [
       "<Figure size 432x288 with 1 Axes>"
      ]
     },
     "metadata": {
      "tags": []
     },
     "output_type": "display_data"
    },
    {
     "data": {
      "image/png": "[encoded data removed]",
      "text/plain": [
       "<Figure size 432x288 with 1 Axes>"
      ]
     },
     "metadata": {
      "tags": []
     },
     "output_type": "display_data"
    }
   ],
   "source": [
    "show_history(history)\n",
    "show_loss(history)"
   ]
  },
  {
   "cell_type": "markdown",
   "metadata": {
    "colab_type": "text",
    "id": "hBrIcUD2KOuH"
   },
   "source": [
    "Adam with learning rate 0.001 is selected as optimizer. Binary crossentropy is used for loss since this is a binary classification task. Accuracy and auc scores are used for metrics.\n",
    "\n",
    "The model is trained for 15 epochs and training accuracy does not increase. This means that this model is too basic for this task. More complex models are needed."
   ]
  },
  {
   "cell_type": "markdown",
   "metadata": {
    "colab_type": "text",
    "id": "OkgOpEEB4lLG"
   },
   "source": [
    "### 3.3. VGG16 Transfer Learning"
   ]
  },
  {
   "cell_type": "markdown",
   "metadata": {
    "colab_type": "text",
    "id": "qO7FGQpIYg9D"
   },
   "source": [
    "Deep convolutional models are needed for image classification tasks. However, these models require huge amounts of computation power. Therefore, transfer learning is used instead training the whole model. Keras library provides several pretrained models for us. Most famous ones are ResNet and VGG. For image recognition tasks, ResNet models are more suitable [4]. For binary classification tasks, VGG models are used in general [5]. Therefore VGG16 is chosen and used for this task. "
   ]
  },
  {
   "cell_type": "code",
   "execution_count": 25,
   "metadata": {
    "colab": {
     "base_uri": "https://localhost:8080/",
     "height": 1000
    },
    "colab_type": "code",
    "id": "VBuYzfPxZqOy",
    "outputId": "402e87e9-7bf3-459c-8535-6e48caf86f62"
   },
   "outputs": [
    {
     "name": "stderr",
     "output_type": "stream",
     "text": [
      "W0816 11:59:50.272747 140318564321152 deprecation.py:506] From /usr/local/lib/python3.6/dist-packages/keras/backend/tensorflow_backend.py:3445: calling dropout (from tensorflow.python.ops.nn_ops) with keep_prob is deprecated and will be removed in a future version.\n",
      "Instructions for updating:\n",
      "Please use `rate` instead of `keep_prob`. Rate should be set to `rate = 1 - keep_prob`.\n"
     ]
    },
    {
     "name": "stdout",
     "output_type": "stream",
     "text": [
      "_________________________________________________________________\n",
      "Layer (type)                 Output Shape              Param #   \n",
      "=================================================================\n",
      "input_1 (InputLayer)         (None, 600, 600, 3)       0         \n",
      "_________________________________________________________________\n",
      "block1_conv1 (Conv2D)        (None, 600, 600, 64)      1792      \n",
      "_________________________________________________________________\n",
      "block1_conv2 (Conv2D)        (None, 600, 600, 64)      36928     \n",
      "_________________________________________________________________\n",
      "block1_pool (MaxPooling2D)   (None, 300, 300, 64)      0         \n",
      "_________________________________________________________________\n",
      "block2_conv1 (Conv2D)        (None, 300, 300, 128)     73856     \n",
      "_________________________________________________________________\n",
      "block2_conv2 (Conv2D)        (None, 300, 300, 128)     147584    \n",
      "_________________________________________________________________\n",
      "block2_pool (MaxPooling2D)   (None, 150, 150, 128)     0         \n",
      "_________________________________________________________________\n",
      "block3_conv1 (Conv2D)        (None, 150, 150, 256)     295168    \n",
      "_________________________________________________________________\n",
      "block3_conv2 (Conv2D)        (None, 150, 150, 256)     590080    \n",
      "_________________________________________________________________\n",
      "block3_conv3 (Conv2D)        (None, 150, 150, 256)     590080    \n",
      "_________________________________________________________________\n",
      "block3_pool (MaxPooling2D)   (None, 75, 75, 256)       0         \n",
      "_________________________________________________________________\n",
      "block4_conv1 (Conv2D)        (None, 75, 75, 512)       1180160   \n",
      "_________________________________________________________________\n",
      "block4_conv2 (Conv2D)        (None, 75, 75, 512)       2359808   \n",
      "_________________________________________________________________\n",
      "block4_conv3 (Conv2D)        (None, 75, 75, 512)       2359808   \n",
      "_________________________________________________________________\n",
      "block4_pool (MaxPooling2D)   (None, 37, 37, 512)       0         \n",
      "_________________________________________________________________\n",
      "block5_conv1 (Conv2D)        (None, 37, 37, 512)       2359808   \n",
      "_________________________________________________________________\n",
      "block5_conv2 (Conv2D)        (None, 37, 37, 512)       2359808   \n",
      "_________________________________________________________________\n",
      "block5_conv3 (Conv2D)        (None, 37, 37, 512)       2359808   \n",
      "_________________________________________________________________\n",
      "block5_pool (MaxPooling2D)   (None, 18, 18, 512)       0         \n",
      "_________________________________________________________________\n",
      "flatten_4 (Flatten)          (None, 165888)            0         \n",
      "_________________________________________________________________\n",
      "dense_7 (Dense)              (None, 32)                5308448   \n",
      "_________________________________________________________________\n",
      "dropout_1 (Dropout)          (None, 32)                0         \n",
      "_________________________________________________________________\n",
      "dense_8 (Dense)              (None, 32)                1056      \n",
      "_________________________________________________________________\n",
      "dropout_2 (Dropout)          (None, 32)                0         \n",
      "_________________________________________________________________\n",
      "dense_9 (Dense)              (None, 1)                 33        \n",
      "=================================================================\n",
      "Total params: 20,024,225\n",
      "Trainable params: 12,388,961\n",
      "Non-trainable params: 7,635,264\n",
      "_________________________________________________________________\n"
     ]
    }
   ],
   "source": [
    "from keras.models import Sequential,Model\n",
    "from keras.layers.core import Dense, Dropout, Activation, Flatten, Dropout \n",
    "from keras.layers import Conv2D \n",
    "from keras.layers import MaxPooling2D,GlobalAveragePooling2D,BatchNormalization\n",
    "import keras.applications,keras\n",
    "from keras import regularizers\n",
    "base_model_vgg16=keras.applications.vgg16.VGG16(include_top=False, weights='imagenet', input_shape=(img_height,img_width,3),\n",
    "                                                 backend = keras.backend, \n",
    "                                                 layers = keras.layers,\n",
    "                                                 models = keras.models,\n",
    "                                                 utils = keras.utils)\n",
    "for layer in base_model_vgg16.layers[:15]:\n",
    "    layer.trainable = False\n",
    "x=base_model_vgg16.output\n",
    "x=Flatten()(x)\n",
    "x=Dense(32,activation='relu')(x)\n",
    "x=Dropout(0.2)(x)\n",
    "x=Dense(32,activation='relu')(x)\n",
    "x=Dropout(0.2)(x)\n",
    "predictions_vgg16 = Dense(1, activation= 'sigmoid')(x)\n",
    "my_VGG16 = Model(inputs = base_model_vgg16.input, outputs = predictions_vgg16)\n",
    "my_VGG16.summary()\n",
    "#en iyi modelin 100 epochs lr=1e-4, tek dense 16 unit."
   ]
  },
  {
   "cell_type": "markdown",
   "metadata": {
    "colab_type": "text",
    "id": "BHEzvgZRaKMw"
   },
   "source": [
    "Pretrained VGG16 model is imported. ImageNet weights are used and the last part of VGG16 model is excluded by setting include_top=False. This way, custom fully connected layers can be built on top of VGG16 model. \n",
    "\n",
    "All the layers of VGG16 model are frozen except the last convolutional block which consist of 3 Conv2D layers. This last block can capture important features from the images, therefore it is left trainable. \n",
    "\n",
    "Fully connected layers are built on top of VGG16. To prevent overfitting, dropouts are added. \n",
    "\n",
    "Several fully connected layer designs are used and best one among them are chosen. This model is not the chosen one.\n",
    "\n"
   ]
  },
  {
   "cell_type": "code",
   "execution_count": 35,
   "metadata": {
    "colab": {
     "base_uri": "https://localhost:8080/",
     "height": 50
    },
    "colab_type": "code",
    "id": "LPWWMBbcqxFR",
    "outputId": "7bc73ef2-0087-408b-d6c9-0139782ce0ae"
   },
   "outputs": [
    {
     "name": "stdout",
     "output_type": "stream",
     "text": [
      "Found 1084 images belonging to 2 classes.\n",
      "Found 270 images belonging to 2 classes.\n"
     ]
    }
   ],
   "source": [
    "\n",
    "from keras.preprocessing.image import ImageDataGenerator \n",
    "from keras.applications.vgg16 import preprocess_input\n",
    "batch_size=16\n",
    "img_height=600\n",
    "img_width=600\n",
    "\n",
    "generator = ImageDataGenerator(\n",
    "                               validation_split=0, \n",
    "                              rotation_range = 10, \n",
    "                               width_shift_range=0.1,\n",
    "                               height_shift_range=0.1,\n",
    "                               zoom_range = 0.1,\n",
    "                               horizontal_flip = True,\n",
    "                               preprocessing_function=preprocess_input) \n",
    "\n",
    "val_generator=ImageDataGenerator(preprocessing_function=preprocess_input)\n",
    "\n",
    "train_data = generator.flow_from_directory(\n",
    "    bn_root_path_training,\n",
    "    target_size=(img_height, img_width),\n",
    "    batch_size=batch_size,\n",
    "    class_mode='binary'\n",
    "    ) \n",
    "\n",
    "val_data = val_generator.flow_from_directory(\n",
    "    bn_root_path_validation, \n",
    "    target_size=(img_height, img_width),\n",
    "    batch_size=batch_size,\n",
    "    class_mode='binary')"
   ]
  },
  {
   "cell_type": "markdown",
   "metadata": {
    "colab_type": "text",
    "id": "b9V3Kda1dTMQ"
   },
   "source": [
    "Training and validation data is loaded. Instead of rescaling the images, preprocessing function for VGG16 model is imported and used both for training and validation data. \n",
    "\n",
    "Only training data is augmented by some arguments."
   ]
  },
  {
   "cell_type": "code",
   "execution_count": null,
   "metadata": {
    "colab": {},
    "colab_type": "code",
    "id": "pA6fKFD3q5AV"
   },
   "outputs": [],
   "source": [
    "test_gen = ImageDataGenerator(preprocessing_function=preprocess_input)\n",
    "test_data = test_gen.flow(np.array(list(images_df.images)), batch_size=1,shuffle=False)"
   ]
  },
  {
   "cell_type": "markdown",
   "metadata": {
    "colab_type": "text",
    "id": "puISyNK5dxls"
   },
   "source": [
    "Test data is loaded. Preprocess_input from VGG16 is used for preprocessing_funciton."
   ]
  },
  {
   "cell_type": "code",
   "execution_count": null,
   "metadata": {
    "colab": {},
    "colab_type": "code",
    "id": "dNI2caGQaYDm"
   },
   "outputs": [],
   "source": [
    "from keras.optimizers import Adam,SGD\n",
    "\n",
    "my_VGG16.compile(optimizer=Adam(lr=1e-4), loss='binary_crossentropy', metrics=['accuracy',auc_roc])\n"
   ]
  },
  {
   "cell_type": "markdown",
   "metadata": {
    "colab_type": "text",
    "id": "B9y9SWhWeCBg"
   },
   "source": [
    "Adam with learning rate 0.0001 is selected as optimizer. Binary crossentropy is used for loss since this is a binary classification task. Accuracy and auc scores are used for metrics."
   ]
  },
  {
   "cell_type": "code",
   "execution_count": 37,
   "metadata": {
    "colab": {
     "base_uri": "https://localhost:8080/",
     "height": 877
    },
    "colab_type": "code",
    "id": "UeNwe3Xfacir",
    "outputId": "0c81ae29-ed89-4854-9170-dfa287a3338c"
   },
   "outputs": [
    {
     "name": "stdout",
     "output_type": "stream",
     "text": [
      "Epoch 1/25\n",
      "68/67 [==============================] - 140s 2s/step - loss: 0.7872 - acc: 0.5803 - auc_roc: 0.4481 - val_loss: 0.6629 - val_acc: 0.6296 - val_auc_roc: 0.4699\n",
      "Epoch 2/25\n",
      "68/67 [==============================] - 109s 2s/step - loss: 0.6697 - acc: 0.6348 - auc_roc: 0.4763 - val_loss: 0.6455 - val_acc: 0.6259 - val_auc_roc: 0.4863\n",
      "Epoch 3/25\n",
      "68/67 [==============================] - 108s 2s/step - loss: 0.6377 - acc: 0.6437 - auc_roc: 0.5034 - val_loss: 0.6668 - val_acc: 0.6222 - val_auc_roc: 0.5148\n",
      "Epoch 4/25\n",
      "68/67 [==============================] - 109s 2s/step - loss: 0.6404 - acc: 0.6562 - auc_roc: 0.5208 - val_loss: 0.6457 - val_acc: 0.6296 - val_auc_roc: 0.5301\n",
      "Epoch 5/25\n",
      "68/67 [==============================] - 108s 2s/step - loss: 0.6358 - acc: 0.6440 - auc_roc: 0.5377 - val_loss: 0.6773 - val_acc: 0.5963 - val_auc_roc: 0.5456\n",
      "Epoch 6/25\n",
      "68/67 [==============================] - 109s 2s/step - loss: 0.6211 - acc: 0.6805 - auc_roc: 0.5550 - val_loss: 0.6882 - val_acc: 0.5370 - val_auc_roc: 0.5634\n",
      "Epoch 7/25\n",
      "68/67 [==============================] - 109s 2s/step - loss: 0.6059 - acc: 0.6706 - auc_roc: 0.5686 - val_loss: 0.6975 - val_acc: 0.6148 - val_auc_roc: 0.5742\n",
      "Epoch 8/25\n",
      "68/67 [==============================] - 109s 2s/step - loss: 0.5952 - acc: 0.6866 - auc_roc: 0.5817 - val_loss: 0.6623 - val_acc: 0.5630 - val_auc_roc: 0.5883\n",
      "Epoch 9/25\n",
      "68/67 [==============================] - 108s 2s/step - loss: 0.5735 - acc: 0.7080 - auc_roc: 0.5966 - val_loss: 0.6837 - val_acc: 0.5778 - val_auc_roc: 0.6025\n",
      "Epoch 10/25\n",
      "68/67 [==============================] - 110s 2s/step - loss: 0.5457 - acc: 0.7172 - auc_roc: 0.6093 - val_loss: 0.7169 - val_acc: 0.5741 - val_auc_roc: 0.6156\n",
      "Epoch 11/25\n",
      "68/67 [==============================] - 108s 2s/step - loss: 0.5605 - acc: 0.7145 - auc_roc: 0.6201 - val_loss: 0.6826 - val_acc: 0.6074 - val_auc_roc: 0.6249\n",
      "Epoch 12/25\n",
      "68/67 [==============================] - 109s 2s/step - loss: 0.5378 - acc: 0.7270 - auc_roc: 0.6299 - val_loss: 0.8438 - val_acc: 0.6259 - val_auc_roc: 0.6354\n",
      "Epoch 13/25\n",
      "68/67 [==============================] - 108s 2s/step - loss: 0.5024 - acc: 0.7641 - auc_roc: 0.6411 - val_loss: 0.7685 - val_acc: 0.6000 - val_auc_roc: 0.6465\n",
      "Epoch 14/25\n",
      "68/67 [==============================] - 109s 2s/step - loss: 0.5094 - acc: 0.7479 - auc_roc: 0.6518 - val_loss: 0.7205 - val_acc: 0.5630 - val_auc_roc: 0.6560\n",
      "Epoch 15/25\n",
      "68/67 [==============================] - 109s 2s/step - loss: 0.4786 - acc: 0.7601 - auc_roc: 0.6606 - val_loss: 0.8520 - val_acc: 0.6296 - val_auc_roc: 0.6656\n",
      "Epoch 16/25\n",
      "68/67 [==============================] - 108s 2s/step - loss: 0.4681 - acc: 0.7779 - auc_roc: 0.6705 - val_loss: 0.9820 - val_acc: 0.6407 - val_auc_roc: 0.6748\n",
      "Epoch 17/25\n",
      "68/67 [==============================] - 108s 2s/step - loss: 0.4791 - acc: 0.7583 - auc_roc: 0.6791 - val_loss: 0.8623 - val_acc: 0.6111 - val_auc_roc: 0.6827\n",
      "Epoch 18/25\n",
      "68/67 [==============================] - 108s 2s/step - loss: 0.4364 - acc: 0.7947 - auc_roc: 0.6867 - val_loss: 1.1929 - val_acc: 0.5963 - val_auc_roc: 0.6908\n",
      "Epoch 19/25\n",
      "68/67 [==============================] - 107s 2s/step - loss: 0.4126 - acc: 0.8238 - auc_roc: 0.6953 - val_loss: 0.9334 - val_acc: 0.6259 - val_auc_roc: 0.6998\n",
      "Epoch 20/25\n",
      "68/67 [==============================] - 109s 2s/step - loss: 0.4185 - acc: 0.8039 - auc_roc: 0.7037 - val_loss: 1.0758 - val_acc: 0.6333 - val_auc_roc: 0.7074\n",
      "Epoch 21/25\n",
      "68/67 [==============================] - 109s 2s/step - loss: 0.3693 - acc: 0.8450 - auc_roc: 0.7119 - val_loss: 1.3279 - val_acc: 0.6037 - val_auc_roc: 0.7156\n",
      "Epoch 22/25\n",
      "68/67 [==============================] - 109s 2s/step - loss: 0.3568 - acc: 0.8447 - auc_roc: 0.7199 - val_loss: 0.8564 - val_acc: 0.6519 - val_auc_roc: 0.7239\n",
      "Epoch 23/25\n",
      "68/67 [==============================] - 110s 2s/step - loss: 0.3016 - acc: 0.8750 - auc_roc: 0.7288 - val_loss: 1.0440 - val_acc: 0.6519 - val_auc_roc: 0.7334\n",
      "Epoch 24/25\n",
      "68/67 [==============================] - 109s 2s/step - loss: 0.2877 - acc: 0.8726 - auc_roc: 0.7380 - val_loss: 1.3136 - val_acc: 0.6333 - val_auc_roc: 0.7418\n",
      "Epoch 25/25\n",
      "68/67 [==============================] - 110s 2s/step - loss: 0.2800 - acc: 0.8793 - auc_roc: 0.7455 - val_loss: 1.1514 - val_acc: 0.6333 - val_auc_roc: 0.7498\n"
     ]
    }
   ],
   "source": [
    "from keras.callbacks import EarlyStopping,ModelCheckpoint,ReduceLROnPlateau\n",
    "epochs=25\n",
    "\n",
    "\n",
    "val_steps=270/batch_size\n",
    "steps_per_epoch=n_train_samples/batch_size\n",
    "checkpoint=ModelCheckpoint('VGG16-transferlearning_2dense32bs32lr1e4.model', monitor='val_acc', save_best_only=True)\n",
    "\n",
    "history_VGG16=my_VGG16.fit_generator(train_data,\n",
    "                                 steps_per_epoch= steps_per_epoch,\n",
    "                                 validation_steps=val_steps,\n",
    "                                 epochs=epochs,\n",
    "                                 verbose=1,\n",
    "                               validation_data=val_data,\n",
    "                               callbacks=[ModelCheckpoint('VGG16-transferlearning_2dense32bs32lr1e4.model', monitor='val_acc', save_best_only=True)])\n"
   ]
  },
  {
   "cell_type": "code",
   "execution_count": 38,
   "metadata": {
    "colab": {
     "base_uri": "https://localhost:8080/",
     "height": 547
    },
    "colab_type": "code",
    "id": "ozs1-O-RakZb",
    "outputId": "a0f9894f-00ea-444a-d6e7-a8190e1c084b"
   },
   "outputs": [
    {
     "data": {
      "image/png": "[encoded data removed]",
      "text/plain": [
       "<Figure size 432x288 with 1 Axes>"
      ]
     },
     "metadata": {
      "tags": []
     },
     "output_type": "display_data"
    },
    {
     "data": {
      "image/png": "[encoded data removed]",
      "text/plain": [
       "<Figure size 432x288 with 1 Axes>"
      ]
     },
     "metadata": {
      "tags": []
     },
     "output_type": "display_data"
    }
   ],
   "source": [
    "show_history(history_VGG16)\n",
    "show_loss(history_VGG16)"
   ]
  },
  {
   "cell_type": "markdown",
   "metadata": {
    "colab_type": "text",
    "id": "y0MRRwypf595"
   },
   "source": [
    "The model is trained for 25 epochs. There is overfitting and validation accuracy stays the same from the beginning. So, this model cannot be used for predictions."
   ]
  },
  {
   "cell_type": "code",
   "execution_count": 48,
   "metadata": {
    "colab": {
     "base_uri": "https://localhost:8080/",
     "height": 978
    },
    "colab_type": "code",
    "id": "xTT90X73g0UO",
    "outputId": "45f9043b-0c37-4f7d-8e58-809f9af5134d"
   },
   "outputs": [
    {
     "name": "stderr",
     "output_type": "stream",
     "text": [
      "W0816 15:40:02.922920 140509531211648 deprecation.py:506] From /usr/local/lib/python3.6/dist-packages/keras/backend/tensorflow_backend.py:3445: calling dropout (from tensorflow.python.ops.nn_ops) with keep_prob is deprecated and will be removed in a future version.\n",
      "Instructions for updating:\n",
      "Please use `rate` instead of `keep_prob`. Rate should be set to `rate = 1 - keep_prob`.\n"
     ]
    },
    {
     "name": "stdout",
     "output_type": "stream",
     "text": [
      "_________________________________________________________________\n",
      "Layer (type)                 Output Shape              Param #   \n",
      "=================================================================\n",
      "input_3 (InputLayer)         (None, 600, 600, 3)       0         \n",
      "_________________________________________________________________\n",
      "block1_conv1 (Conv2D)        (None, 600, 600, 64)      1792      \n",
      "_________________________________________________________________\n",
      "block1_conv2 (Conv2D)        (None, 600, 600, 64)      36928     \n",
      "_________________________________________________________________\n",
      "block1_pool (MaxPooling2D)   (None, 300, 300, 64)      0         \n",
      "_________________________________________________________________\n",
      "block2_conv1 (Conv2D)        (None, 300, 300, 128)     73856     \n",
      "_________________________________________________________________\n",
      "block2_conv2 (Conv2D)        (None, 300, 300, 128)     147584    \n",
      "_________________________________________________________________\n",
      "block2_pool (MaxPooling2D)   (None, 150, 150, 128)     0         \n",
      "_________________________________________________________________\n",
      "block3_conv1 (Conv2D)        (None, 150, 150, 256)     295168    \n",
      "_________________________________________________________________\n",
      "block3_conv2 (Conv2D)        (None, 150, 150, 256)     590080    \n",
      "_________________________________________________________________\n",
      "block3_conv3 (Conv2D)        (None, 150, 150, 256)     590080    \n",
      "_________________________________________________________________\n",
      "block3_pool (MaxPooling2D)   (None, 75, 75, 256)       0         \n",
      "_________________________________________________________________\n",
      "block4_conv1 (Conv2D)        (None, 75, 75, 512)       1180160   \n",
      "_________________________________________________________________\n",
      "block4_conv2 (Conv2D)        (None, 75, 75, 512)       2359808   \n",
      "_________________________________________________________________\n",
      "block4_conv3 (Conv2D)        (None, 75, 75, 512)       2359808   \n",
      "_________________________________________________________________\n",
      "block4_pool (MaxPooling2D)   (None, 37, 37, 512)       0         \n",
      "_________________________________________________________________\n",
      "block5_conv1 (Conv2D)        (None, 37, 37, 512)       2359808   \n",
      "_________________________________________________________________\n",
      "block5_conv2 (Conv2D)        (None, 37, 37, 512)       2359808   \n",
      "_________________________________________________________________\n",
      "block5_conv3 (Conv2D)        (None, 37, 37, 512)       2359808   \n",
      "_________________________________________________________________\n",
      "block5_pool (MaxPooling2D)   (None, 18, 18, 512)       0         \n",
      "_________________________________________________________________\n",
      "flatten_3 (Flatten)          (None, 165888)            0         \n",
      "_________________________________________________________________\n",
      "dense_5 (Dense)              (None, 16)                2654224   \n",
      "_________________________________________________________________\n",
      "dropout_1 (Dropout)          (None, 16)                0         \n",
      "_________________________________________________________________\n",
      "dense_6 (Dense)              (None, 1)                 17        \n",
      "=================================================================\n",
      "Total params: 17,368,929\n",
      "Trainable params: 9,733,665\n",
      "Non-trainable params: 7,635,264\n",
      "_________________________________________________________________\n"
     ]
    }
   ],
   "source": [
    "from keras.models import Sequential,Model\n",
    "from keras.layers.core import Dense, Dropout, Activation, Flatten, Dropout \n",
    "from keras.layers import Conv2D \n",
    "from keras.layers import MaxPooling2D,GlobalAveragePooling2D,BatchNormalization\n",
    "import keras.applications,keras\n",
    "from keras import regularizers\n",
    "base_model_vgg16=keras.applications.vgg16.VGG16(include_top=False, weights='imagenet', input_shape=(img_height,img_width,3),\n",
    "                                                 backend = keras.backend, \n",
    "                                                 layers = keras.layers,\n",
    "                                                 models = keras.models,\n",
    "                                                 utils = keras.utils)\n",
    "for layer in base_model_vgg16.layers[:15]:\n",
    "    layer.trainable = False\n",
    "x=base_model_vgg16.output\n",
    "x=Flatten()(x)\n",
    "x=Dense(16,activation='relu')(x)\n",
    "x=Dropout(0.2)(x)\n",
    "predictions_vgg16 = Dense(1, activation= 'sigmoid')(x)\n",
    "my_VGG16 = Model(inputs = base_model_vgg16.input, outputs = predictions_vgg16)\n",
    "my_VGG16.summary()\n"
   ]
  },
  {
   "cell_type": "markdown",
   "metadata": {
    "colab_type": "text",
    "id": "H4JrC4utg9yS"
   },
   "source": [
    "Although this design is very simple, the best one among all the models is this one. "
   ]
  },
  {
   "cell_type": "code",
   "execution_count": null,
   "metadata": {
    "colab": {},
    "colab_type": "code",
    "id": "-nli97eeg0UT"
   },
   "outputs": [],
   "source": [
    "from keras.optimizers import Adam,SGD\n",
    "\n",
    "my_VGG16.compile(optimizer=Adam(lr=1e-4), loss='binary_crossentropy', metrics=['accuracy',auc_roc])\n"
   ]
  },
  {
   "cell_type": "markdown",
   "metadata": {
    "colab_type": "text",
    "id": "cq8nQTqN7_fR"
   },
   "source": [
    "This model was trained and saved. It is trained for 25 epochs using optimizer Adam with learning rate 0.0001 and batch size 32."
   ]
  },
  {
   "cell_type": "code",
   "execution_count": 63,
   "metadata": {
    "colab": {
     "base_uri": "https://localhost:8080/",
     "height": 50
    },
    "colab_type": "code",
    "id": "PhO27LEXNJvY",
    "outputId": "dc739e00-e438-4cdb-8db0-a29225fc2f16"
   },
   "outputs": [
    {
     "name": "stdout",
     "output_type": "stream",
     "text": [
      "Found 1084 images belonging to 2 classes.\n",
      "Found 270 images belonging to 2 classes.\n"
     ]
    }
   ],
   "source": [
    "train_data = generator.flow_from_directory(\n",
    "    bn_root_path_training,\n",
    "    target_size=(img_height, img_width),\n",
    "    batch_size=32,\n",
    "    class_mode='binary'\n",
    "    ) \n",
    "\n",
    "val_data = val_generator.flow_from_directory(\n",
    "    bn_root_path_validation, \n",
    "    target_size=(img_height, img_width),\n",
    "    batch_size=32,\n",
    "    class_mode='binary')"
   ]
  },
  {
   "cell_type": "markdown",
   "metadata": {
    "colab_type": "text",
    "id": "CI2yDNB6_bfp"
   },
   "source": [
    "Training and validation data are loaded again with batch size 32."
   ]
  },
  {
   "cell_type": "code",
   "execution_count": 65,
   "metadata": {
    "colab": {
     "base_uri": "https://localhost:8080/",
     "height": 101
    },
    "colab_type": "code",
    "id": "Yw9SClPTVNfd",
    "outputId": "d7d0adfe-2457-4ad3-a6cf-58bbcb4c5d33"
   },
   "outputs": [
    {
     "name": "stdout",
     "output_type": "stream",
     "text": [
      "Training accuracy is :  0.6934206246010052\n",
      "\n",
      "\n",
      "\n",
      "Validation accuracy is :  0.7532701002226936\n"
     ]
    }
   ],
   "source": [
    "print(\"Training accuracy is : \", my_VGG16.evaluate_generator(train_data,steps=1084/32,workers=0)[0])\n",
    "print(\"\\n\\n\")\n",
    "print(\"Validation accuracy is : \" , my_VGG16.evaluate_generator(val_data,steps=270/32,workers=0)[0])\n",
    "\n"
   ]
  },
  {
   "cell_type": "markdown",
   "metadata": {
    "colab_type": "text",
    "id": "pYXapqid8wEE"
   },
   "source": [
    "The saved model is loaded. The predictions for  training and validation data are obtained. to calculate accuracy for both."
   ]
  },
  {
   "cell_type": "markdown",
   "metadata": {
    "colab_type": "text",
    "id": "yd_og5aa-SgK"
   },
   "source": [
    "\n",
    "Both training and validation accuracy are the best ones obtained from all the trained models. Thus, this model is selected for predictions."
   ]
  },
  {
   "cell_type": "code",
   "execution_count": 27,
   "metadata": {
    "colab": {
     "base_uri": "https://localhost:8080/",
     "height": 77
    },
    "colab_type": "code",
    "id": "EypjtkH_3_8d",
    "outputId": "25651f8e-e2e7-4748-e9d4-279b03e4c79e"
   },
   "outputs": [
    {
     "data": {
      "text/html": [
       "<div>\n",
       "<style scoped>\n",
       "    .dataframe tbody tr th:only-of-type {\n",
       "        vertical-align: middle;\n",
       "    }\n",
       "\n",
       "    .dataframe tbody tr th {\n",
       "        vertical-align: top;\n",
       "    }\n",
       "\n",
       "    .dataframe thead th {\n",
       "        text-align: right;\n",
       "    }\n",
       "</style>\n",
       "<table border=\"1\" class=\"dataframe\">\n",
       "  <thead>\n",
       "    <tr style=\"text-align: right;\">\n",
       "      <th></th>\n",
       "      <th>images</th>\n",
       "      <th>id</th>\n",
       "      <th>predictions</th>\n",
       "    </tr>\n",
       "  </thead>\n",
       "  <tbody>\n",
       "    <tr>\n",
       "      <th>480</th>\n",
       "      <td>[[[255, 255, 255], [255, 255, 255], [255, 255,...</td>\n",
       "      <td>fd2807a7befa288f3321</td>\n",
       "      <td>2</td>\n",
       "    </tr>\n",
       "  </tbody>\n",
       "</table>\n",
       "</div>"
      ],
      "text/plain": [
       "                                                images  ... predictions\n",
       "480  [[[255, 255, 255], [255, 255, 255], [255, 255,...  ...           2\n",
       "\n",
       "[1 rows x 3 columns]"
      ]
     },
     "execution_count": 27,
     "metadata": {
      "tags": []
     },
     "output_type": "execute_result"
    }
   ],
   "source": [
    "images_df[\"predictions\"]=np.ones(len(images_df.images),dtype=int)*2\n",
    "images_df.tail(1)"
   ]
  },
  {
   "cell_type": "code",
   "execution_count": 33,
   "metadata": {
    "colab": {
     "base_uri": "https://localhost:8080/",
     "height": 202
    },
    "colab_type": "code",
    "id": "3DXuG9Ps3_8i",
    "outputId": "6cd7082f-c53b-4ac2-d6e3-424b2b4faf2d"
   },
   "outputs": [
    {
     "name": "stdout",
     "output_type": "stream",
     "text": [
      "Total number of predicted fake photos:  171.0\n"
     ]
    },
    {
     "name": "stderr",
     "output_type": "stream",
     "text": [
      "/usr/local/lib/python3.6/dist-packages/ipykernel_launcher.py:2: SettingWithCopyWarning: \n",
      "A value is trying to be set on a copy of a slice from a DataFrame\n",
      "\n",
      "See the caveats in the documentation: http://pandas.pydata.org/pandas-docs/stable/indexing.html#indexing-view-versus-copy\n",
      "  \n",
      "/usr/local/lib/python3.6/dist-packages/ipykernel_launcher.py:3: SettingWithCopyWarning: \n",
      "A value is trying to be set on a copy of a slice from a DataFrame\n",
      "\n",
      "See the caveats in the documentation: http://pandas.pydata.org/pandas-docs/stable/indexing.html#indexing-view-versus-copy\n",
      "  This is separate from the ipykernel package so we can avoid doing imports until\n"
     ]
    }
   ],
   "source": [
    "images_df.predictions=my_VGG16.predict_generator(test_data,steps=len(images_df.images),workers=0)\n",
    "images_df.predictions[images_df.predictions<0.5]=0\n",
    "images_df.predictions[images_df.predictions>=0.5]=1\n",
    "print(\"Total number of predicted fake photos: \" , images_df.predictions.sum())"
   ]
  },
  {
   "cell_type": "code",
   "execution_count": 34,
   "metadata": {
    "colab": {
     "base_uri": "https://localhost:8080/",
     "height": 195
    },
    "colab_type": "code",
    "id": "O9-U1RQV3_8l",
    "outputId": "fb9342ee-7056-4227-b969-bd1c30efe455"
   },
   "outputs": [
    {
     "data": {
      "text/html": [
       "<div>\n",
       "<style scoped>\n",
       "    .dataframe tbody tr th:only-of-type {\n",
       "        vertical-align: middle;\n",
       "    }\n",
       "\n",
       "    .dataframe tbody tr th {\n",
       "        vertical-align: top;\n",
       "    }\n",
       "\n",
       "    .dataframe thead th {\n",
       "        text-align: right;\n",
       "    }\n",
       "</style>\n",
       "<table border=\"1\" class=\"dataframe\">\n",
       "  <thead>\n",
       "    <tr style=\"text-align: right;\">\n",
       "      <th></th>\n",
       "      <th>ID</th>\n",
       "      <th>fake</th>\n",
       "    </tr>\n",
       "  </thead>\n",
       "  <tbody>\n",
       "    <tr>\n",
       "      <th>0</th>\n",
       "      <td>00217efccd6f697eb937</td>\n",
       "      <td>1</td>\n",
       "    </tr>\n",
       "    <tr>\n",
       "      <th>1</th>\n",
       "      <td>020c00becfcd4e7938af</td>\n",
       "      <td>0</td>\n",
       "    </tr>\n",
       "    <tr>\n",
       "      <th>2</th>\n",
       "      <td>0616140ccf8da205dae1</td>\n",
       "      <td>0</td>\n",
       "    </tr>\n",
       "    <tr>\n",
       "      <th>3</th>\n",
       "      <td>046d3ccaf5e4888cff8f</td>\n",
       "      <td>1</td>\n",
       "    </tr>\n",
       "    <tr>\n",
       "      <th>4</th>\n",
       "      <td>01a1a6b856bffedc304c</td>\n",
       "      <td>0</td>\n",
       "    </tr>\n",
       "  </tbody>\n",
       "</table>\n",
       "</div>"
      ],
      "text/plain": [
       "                     ID  fake\n",
       "0  00217efccd6f697eb937     1\n",
       "1  020c00becfcd4e7938af     0\n",
       "2  0616140ccf8da205dae1     0\n",
       "3  046d3ccaf5e4888cff8f     1\n",
       "4  01a1a6b856bffedc304c     0"
      ]
     },
     "execution_count": 34,
     "metadata": {
      "tags": []
     },
     "output_type": "execute_result"
    }
   ],
   "source": [
    "submission=pd.DataFrame()\n",
    "submission[\"ID\"]=images_df.id\n",
    "submission[\"fake\"]=images_df.predictions.astype(int)\n",
    "submission.head()"
   ]
  },
  {
   "cell_type": "code",
   "execution_count": null,
   "metadata": {
    "colab": {},
    "colab_type": "code",
    "id": "IG-kMxvU3_8n"
   },
   "outputs": [],
   "source": [
    "submission.to_csv(\"submission_VGG16-transferlearning_final?\", encoding='utf-8', index=False)"
   ]
  },
  {
   "cell_type": "markdown",
   "metadata": {
    "colab_type": "text",
    "id": "zIE1KFKaAdNN"
   },
   "source": [
    "Predictions are stored in images_df. Since the order is preserved when loading test data, predictions match with the corresponding data. \n",
    "\n",
    "Finally, predictions are saved in a csv file."
   ]
  },
  {
   "cell_type": "markdown",
   "metadata": {},
   "source": [
    "### 4. Conclusion"
   ]
  },
  {
   "cell_type": "markdown",
   "metadata": {},
   "source": [
    "In conclusion, several models are tried and best one among them is used to predict labels for this task. Deep convolutional networks are powerful networks. Like in other tasks, a deep convolutional network , which is a VGG16 with fully connected layer on top, outperformed the benchmark model in this project. "
   ]
  },
  {
   "cell_type": "markdown",
   "metadata": {},
   "source": [
    "### 5. References"
   ]
  },
  {
   "cell_type": "markdown",
   "metadata": {},
   "source": [
    "1. Alex Krizhevsky, Ilya Sutskever, and Geoffrey E. Hinton, ImageNet Classification with Deep Convolutional Neural Networks, Advances in Neural Information Processing Systems, September 2012.\n",
    "2. Jason Yosinski, Jeff Clune, Yoshua Bengio, and Hod Lipson, How transferable are features in deep neural networks?, Advances in Neural Information Processing Systems, \n",
    "November 2014.\n",
    "3. Luis Perez, Jason Wang, The Effectiveness of Data Augmentation in Image Classification using Deep Learning,  December 2017.\n",
    "4. Kaiming He, Xiangyu Zhang, Shaoqing Ren, and Jian Sun, Deep Residual Learning for Image Recognition, December 2015.\n",
    "5. Mikhail Krinitskiy, Polina Verezemskaya, Kirill Grashchenkov, Natalia Tilinina, Sergey Gulev and Matthew Lazzara,  Molecular Diversity Preservation International, October 2018."
   ]
  }
 ],
 "metadata": {
  "accelerator": "GPU",
  "colab": {
   "collapsed_sections": [],
   "machine_shape": "hm",
   "name": "ADAMS_Project_CNN.ipynb",
   "provenance": [],
   "version": "0.3.2"
  },
  "kernelspec": {
   "display_name": "Python 3",
   "language": "python",
   "name": "python3"
  },
  "language_info": {
   "codemirror_mode": {
    "name": "ipython",
    "version": 3
   },
   "file_extension": ".py",
   "mimetype": "text/x-python",
   "name": "python",
   "nbconvert_exporter": "python",
   "pygments_lexer": "ipython3",
   "version": "3.7.0"
  }
 },
 "nbformat": 4,
 "nbformat_minor": 2
}
